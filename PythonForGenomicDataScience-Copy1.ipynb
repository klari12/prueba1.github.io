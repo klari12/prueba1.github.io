{
 "cells": [
  {
   "cell_type": "markdown",
   "id": "4472c177",
   "metadata": {},
   "source": [
    "Python: Data structures part1"
   ]
  },
  {
   "cell_type": "markdown",
   "id": "1bb2fa06",
   "metadata": {},
   "source": [
    "Lists are formed of elements that we can modify. Strings, on the contrary, do not allow modification of any of their parts."
   ]
  },
  {
   "cell_type": "markdown",
   "id": "e279cd20",
   "metadata": {},
   "source": [
    "Lists are also objects. Let's imagine we make a list with the expression of a gene but we want to change the name of this gene:\n"
   ]
  },
  {
   "cell_type": "code",
   "execution_count": 3,
   "id": "41f8bb8d",
   "metadata": {},
   "outputs": [
    {
     "name": "stdout",
     "output_type": "stream",
     "text": [
      "['SHOX1', 2.234, 500]\n",
      "[2.234, 500]\n",
      "['TRA11', 500, 2.234]\n"
     ]
    }
   ],
   "source": [
    "# \n",
    "gene_expression = [\"SHOX1\", 2.234, 500]\n",
    "print(gene_expression)\n",
    "del gene_expression[0]\n",
    "print(gene_expression)\n",
    "gene_expression.extend([\"TRA11\"])\n",
    "gene_expression.reverse()\n",
    "print(gene_expression)"
   ]
  },
  {
   "cell_type": "markdown",
   "id": "50f97a32",
   "metadata": {},
   "source": [
    "Python: Data structures part 2"
   ]
  },
  {
   "cell_type": "markdown",
   "id": "0b298a03",
   "metadata": {},
   "source": [
    "Tuple: a number of values separated by commas, another standard sequence data type, like strings and lists. The values of the tuple cannot be changed. Usually, they are used to contain heterogeneus elements."
   ]
  },
  {
   "cell_type": "code",
   "execution_count": null,
   "id": "be4f9fe8",
   "metadata": {},
   "outputs": [],
   "source": [
    "t=1,2,3\n",
    "t"
   ]
  },
  {
   "cell_type": "markdown",
   "id": "2dc3defa",
   "metadata": {},
   "source": [
    "A set is an unordered collection with no duplicate elements. Set objects support mathematical operations like union, intersection and difference."
   ]
  },
  {
   "cell_type": "code",
   "execution_count": 27,
   "id": "726565f9",
   "metadata": {},
   "outputs": [
    {
     "data": {
      "text/plain": [
       "{'cancer'}"
      ]
     },
     "execution_count": 27,
     "metadata": {},
     "output_type": "execute_result"
    }
   ],
   "source": [
    "brca1={\"DNA repair\", \"zinc ion binding\", \"cancer\"}\n",
    "brca2={\"nucleoplasma\", \"double-strand break repair\", \"cancer\"}\n",
    "# Union operation\n",
    "brca1 | brca2\n",
    "# intersection (to see what they have in common)\n",
    "brca1 & brca2\n"
   ]
  },
  {
   "cell_type": "markdown",
   "id": "83d01664",
   "metadata": {},
   "source": [
    "A dictionary is an unordered set of key and value pairs, with the requirement that the keys are unique (within one dictionary)"
   ]
  },
  {
   "cell_type": "code",
   "execution_count": 37,
   "id": "bd846182",
   "metadata": {},
   "outputs": [
    {
     "data": {
      "text/plain": [
       "{'SP1': 'gggccgg', 'c-Myc': 'atgatg', 'Oct-1': 'atgcaaat', 'AP1': 'gctagcg'}"
      ]
     },
     "execution_count": 37,
     "metadata": {},
     "output_type": "execute_result"
    }
   ],
   "source": [
    "TF_motif={\"SP1\":\"gggccgg\", \"c-Myc\":\"atgatg\", \"Oct-1\":\"atgcaaat\"}\n",
    "TF_motif[\"c-Myc\"]\n",
    "# If we want to add a key:valure to the dictionary:\n",
    "TF_motif[\"AP1\"] = \"gctagcg\"\n",
    "TF_motif"
   ]
  },
  {
   "cell_type": "markdown",
   "id": "7501845a",
   "metadata": {},
   "source": [
    "IFS"
   ]
  },
  {
   "cell_type": "markdown",
   "id": "b89b1fc6",
   "metadata": {},
   "source": [
    "We can create an \"if\" statement like this:"
   ]
  },
  {
   "cell_type": "code",
   "execution_count": 21,
   "id": "a36e1623",
   "metadata": {},
   "outputs": [
    {
     "name": "stdout",
     "output_type": "stream",
     "text": [
      "Insert your DNA sequence acgttcgacgtnNNN\n"
     ]
    }
   ],
   "source": [
    "DNA = input(\"Insert your DNA sequence \")\n"
   ]
  },
  {
   "cell_type": "code",
   "execution_count": 19,
   "id": "22bfb579",
   "metadata": {},
   "outputs": [
    {
     "name": "stdout",
     "output_type": "stream",
     "text": [
      "This DNA sequence has \n",
      "5 undefined bases\n"
     ]
    }
   ],
   "source": [
    "if \"n\" in DNA :\n",
    "    nbases = DNA.count(\"n\")\n",
    "    print(\"This DNA sequence has \\n%d undefined bases\" %nbases)\n",
    "elif \"N\" in DNA: \n",
    "    Nbases = DNA.count(\"N\")\n",
    "    print(\"This DNA sequence has \\n%d undefined bases\" %Nbases)\n",
    "else:\n",
    "    print(\"This sequences has no undefined bases\")"
   ]
  },
  {
   "cell_type": "markdown",
   "id": "a23f27b1",
   "metadata": {},
   "source": [
    "This statements are based on boolean expressions, which are formed with the help of comparison (==, !=, >, etc), identity (is and is not) and membership (in and not in) operators."
   ]
  },
  {
   "cell_type": "code",
   "execution_count": 23,
   "id": "9177686b",
   "metadata": {},
   "outputs": [
    {
     "name": "stdout",
     "output_type": "stream",
     "text": [
      "This DNA sequence has \n",
      "4 undefined bases\n"
     ]
    }
   ],
   "source": [
    "if \"n\" in DNA or \"N\" in DNA :\n",
    "    nbases = DNA.count(\"n\") + DNA.count(\"N\")\n",
    "    print(\"This DNA sequence has \\n%d undefined bases\" %nbases)\n",
    "else:\n",
    "    print(\"This sequences has no undefined bases\")"
   ]
  },
  {
   "cell_type": "markdown",
   "id": "72eb82fb",
   "metadata": {},
   "source": [
    "LOOPS"
   ]
  },
  {
   "cell_type": "markdown",
   "id": "5bd6b165",
   "metadata": {},
   "source": [
    "Very important for analysing several sequences in an automatic way."
   ]
  },
  {
   "cell_type": "code",
   "execution_count": 71,
   "id": "a6ed1aa3",
   "metadata": {},
   "outputs": [
    {
     "name": "stdout",
     "output_type": "stream",
     "text": [
      "Insert your DNA sequence acgatygctagcatcgatctcacgatgactagcctca\n"
     ]
    }
   ],
   "source": [
    "dna = input(\"Insert your DNA sequence \")"
   ]
  },
  {
   "cell_type": "code",
   "execution_count": 72,
   "id": "010ef615",
   "metadata": {},
   "outputs": [],
   "source": [
    "pos = dna.find(\"gt\", 0)\n",
    "pos2 = dna.find(\"ctca\", 0)"
   ]
  },
  {
   "cell_type": "code",
   "execution_count": 39,
   "id": "c32807d6",
   "metadata": {},
   "outputs": [
    {
     "name": "stdout",
     "output_type": "stream",
     "text": [
      "Donor splice site candidate at position 2\n"
     ]
    }
   ],
   "source": [
    "while pos>-1: \n",
    "    print(\"Donor splice site candidate at position %d\"%pos)\n",
    "    pos = dna.find(\"gt\", pos+1)"
   ]
  },
  {
   "cell_type": "code",
   "execution_count": 58,
   "id": "f1650a18",
   "metadata": {},
   "outputs": [
    {
     "data": {
      "text/plain": [
       "31"
      ]
     },
     "execution_count": 58,
     "metadata": {},
     "output_type": "execute_result"
    }
   ],
   "source": [
    "len(dna)"
   ]
  },
  {
   "cell_type": "code",
   "execution_count": 73,
   "id": "962cbff4",
   "metadata": {},
   "outputs": [
    {
     "name": "stdout",
     "output_type": "stream",
     "text": [
      "Braching points are at positions: 18\n",
      "Braching points are at positions: 33\n"
     ]
    }
   ],
   "source": [
    "while pos2>-1: \n",
    "    pos2list = pos2\n",
    "    print(\"Braching points detected at position: %d\"%pos2list)\n",
    "    pos2 = dna.find(\"ctca\", pos2+1)\n"
   ]
  },
  {
   "cell_type": "markdown",
   "id": "45a91a5a",
   "metadata": {},
   "source": [
    "The \"continue\" statement causes the program to continue with the next iteration of the nearest enclosing loop, skipping the rest of the code in the loop.\n",
    "For example, it can be used to delete all invalid aminoacid characters from a protein sequence.\n",
    "The continue statement can improve the readibility of the code."
   ]
  },
  {
   "cell_type": "code",
   "execution_count": 75,
   "id": "bba6bc0e",
   "metadata": {},
   "outputs": [
    {
     "name": "stdout",
     "output_type": "stream",
     "text": [
      "Corrected protein sequence: SCGSFDCBSTA\n"
     ]
    }
   ],
   "source": [
    "protein = \"SCGSFDJJCBSTA\"\n",
    "corrected_protein = \"\"\n",
    "for i in range(len(protein)):\n",
    "    if protein[i] not in \"ABCDEFGHIKLMNPQRSTVWXYZ\":\n",
    "        continue\n",
    "    corrected_protein=corrected_protein+protein[i]\n",
    "print(\"Corrected protein sequence: %s\"%corrected_protein)"
   ]
  },
  {
   "cell_type": "markdown",
   "id": "4f88dbf0",
   "metadata": {},
   "source": [
    "Python allows the use of else in loops.  "
   ]
  },
  {
   "cell_type": "markdown",
   "id": "2034c151",
   "metadata": {},
   "source": [
    "The \"pass\" statement is a placeholder: it does nothing."
   ]
  },
  {
   "cell_type": "markdown",
   "id": "7af0289d",
   "metadata": {},
   "source": [
    "FUNCTIONS"
   ]
  },
  {
   "cell_type": "markdown",
   "id": "681254d8",
   "metadata": {},
   "source": [
    "Write a program that checks if a given DNA sequence contains an in frame stop codon"
   ]
  },
  {
   "cell_type": "code",
   "execution_count": 42,
   "id": "8a2eea0e",
   "metadata": {},
   "outputs": [
    {
     "name": "stdout",
     "output_type": "stream",
     "text": [
      "Enter your sequence:acgagctagcatgcacgatataaacgatcga\n"
     ]
    }
   ],
   "source": [
    " dna = input(\"Enter your sequence:\")"
   ]
  },
  {
   "cell_type": "code",
   "execution_count": 70,
   "id": "b67a7743",
   "metadata": {},
   "outputs": [],
   "source": [
    "\n",
    "def has_stop_codon(dna,frame=0):\n",
    "    \"If we write frame=0, then 0 will be its default value, but we can change it when calling the function\"\n",
    "    \"The function detects stop condons in the specified reading frame\"\n",
    "    stop_codon_found= False\n",
    "    stop_codons=[\"tga\", \"tag\", \"taa\"]\n",
    "    for i in range (frame, len(dna), 3):\n",
    "        \"We use the .lower method to transform all letter into lowercase to avoid mistakes\"\n",
    "        codon=dna[i:i+3].lower()\n",
    "        if codon in stop_codons :\n",
    "            stop_codon_found=True\n",
    "            break\n",
    "    return(stop_codon_found)\n"
   ]
  },
  {
   "cell_type": "code",
   "execution_count": 71,
   "id": "4b62cab7",
   "metadata": {},
   "outputs": [
    {
     "data": {
      "text/plain": [
       "True"
      ]
     },
     "execution_count": 71,
     "metadata": {},
     "output_type": "execute_result"
    }
   ],
   "source": [
    "has_stop_codon(\"agctaataatatataatacgtgagatcagctacgtacg\", 3)"
   ]
  },
  {
   "cell_type": "markdown",
   "id": "a4edd3cf",
   "metadata": {},
   "source": [
    "Reading and writing files"
   ]
  },
  {
   "cell_type": "markdown",
   "id": "1b40fce4",
   "metadata": {},
   "source": [
    "Exercise: create a dictionary containing the sequences from a FASTA file"
   ]
  },
  {
   "cell_type": "code",
   "execution_count": 24,
   "id": "a11ea793",
   "metadata": {},
   "outputs": [
    {
     "name": "stdout",
     "output_type": "stream",
     "text": [
      "228\n"
     ]
    }
   ],
   "source": [
    "FASTA_file = open('A.fumigatus.genome.fna')\n",
    "# This function is for counting how many names of sequences are in the FASTA file\n",
    "sequencenames = 0\n",
    "for line in FASTA_file:\n",
    "    if line[0] == \">\":\n",
    "        sequencenames += 1\n",
    "print(sequencenames)"
   ]
  },
  {
   "cell_type": "code",
   "execution_count": null,
   "id": "26915406",
   "metadata": {},
   "outputs": [],
   "source": [
    "FASTA_file = open('A.fumigatus.genome.fna')\n",
    "sequence_dict = {}\n",
    "for line in FASTA_file:\n",
    "    line= line.rstrip()\n",
    "    if line[0]==\">\":\n",
    "        words=line.split()\n",
    "        name=words[0][1:]\n",
    "        sequence_dict[name]=''\n",
    "    else:\n",
    "        sequence_dict[name] = sequence_dict[name] + line\n",
    "FASTA_file.close()"
   ]
  },
  {
   "cell_type": "markdown",
   "id": "07b0fc1c",
   "metadata": {},
   "source": [
    "There are multiple possible ways to do this. I did the way below but it gives que whole name for the sequence, instead of only the fist part as when using the code chunk from above."
   ]
  },
  {
   "cell_type": "code",
   "execution_count": 56,
   "id": "f6c0b280",
   "metadata": {},
   "outputs": [],
   "source": [
    "FASTA_file = open('A.fumigatus.genome.fna')\n",
    "sequence_dictionary = {}\n",
    "count=0\n",
    "Lines = FASTA_file.readlines()\n",
    "for line in Lines:\n",
    "    if line[0] == \">\":\n",
    "        key = line.strip()\n",
    "        sequence_dictionary[key] = ''\n",
    "    else:\n",
    "        sequence_dictionary[key] = sequence_dictionary[key]+line\n",
    "        \n"
   ]
  },
  {
   "cell_type": "code",
   "execution_count": 58,
   "id": "ca177c6a",
   "metadata": {},
   "outputs": [
    {
     "data": {
      "text/plain": [
       "'AAACCTCTAAACCCTATAGgaaaatagaggaaggtttatactattataataataaatagaaGCTAGTAGGTAAAAACTTT\\nATAGAGAAAATACTATTTTTTAATAGGGCTACTCTGTAGCctatctaccttactctctatatatatttaatatatttata\\ngtattacttaggttatcttctagttcctataagttcttatggggaatcctttctacttaactaggtataatatcttttct\\nttttaaGTCTATTTAGCTAGTATATTCTTTAATTATTCCTCTATTAATATCTTTAAGGGACTAGGGTTCTAATAGtatct\\ntattattatcctAAGGGTTTTACTTCTtaagaagggatatataaAAGATAAGATaaatttatctatataattttagtatA\\nGAGTATATACCTACTTTctaataatagtagtaaTTTCAAACcgcctattatatttattattaagtttcttatatagGCAC\\nTATAGTTTTAAGTTTCTTAAGAAGAGTAGCACCTTTTCTCTAATAAAAAATAAGATATTTCTAGTACTTTTAGTTATAAT\\nACCTAGCATATATCTTCTAAGTAGTTACTAGGTGACCTTATAATTAATTTTATAGATCCTAGAGTATTTTAAGGCATTGC\\ntctactactattactaataaattattagtaatattagtaagctaGAATAATACTAGAATATAGCTATAAGTAGCTTTAAA\\nGGGTATTATTTTTATCAAGGTATAtaggatatagctatagatagTAAAGTTTATCTATAACTATATggcctaattatctt\\nactaataattaataaatatTCTTAGGTATATCTCTAATATCTAATTCTAGTattctatctagctatttatttataaataa\\naaaGCTATACTTATCTATTTTTTAATTCTTAGATATCTATAGAAATTAGTCTAGTAatagctagtaaatagtatatccct\\nattagttactaggcttcttaatatactatattaaaGGATAATTCTCTCTAAGAATATATTAGCAAGTTCCTCTGTAGTAA\\nTTATCTTcttaataaagatatatttagctatttttatatattaattaataatcACTAgaattatattaaatatcttTTAT\\nTTTTATACTAACAGGGGCAGTAAggtaataaaatctataaataAGTTACTCTATAGCTTTTTTAGTATAGGTAGTGTAGT\\nAACCTTCCCTATAGTAAGATACTAAGAAGTCTTAGTCTTctaatatactatatatatagctatattctttaatattatat\\ntatatcccCTTCTATTAGAACttatactagagtaaggctaCTATCTTATTAACTCCTAGATATCTAGTAtaggggttatt\\natagtatattcTTAGAAGCTCTTATCttattataatattagtaaaTATATAAATAGTATTCTTAAATTATAGCAGACCCT\\nTACTATTAATTTTCTAGTTTCTTATCTAAGTATTACTAGAGATCCCCTATAGCTACTTagaaactagttatatataggta\\ntcCCTATGCTATAgttcctagataatattctttaAGTAAGTTATTAGTAAGTCTTAAGTAATCTTAAGGCTAGTAGCctc\\ntattactagtaatCTTAATAATAGGAATTCTAAACTTCCTACTCTTATTAGcatactataaatactaaggttatttatac\\ntagtctagtttaactataagccTAGTATTAGCTTCCTCTAAAGTATAGGTAAGAGTCTAGCTCTAGTTTCTATATTCTTA\\nATTAGCCTATAATCTTAGTATCTTAatagtatatctataggGTTAAGCTAtcctagtttatatttaattataaa\\n'"
      ]
     },
     "execution_count": 58,
     "metadata": {},
     "output_type": "execute_result"
    }
   ],
   "source": [
    "list(sequence_dictionary)\n",
    "sequence_dictionary['>MCQI02000050.1 Aspergillus fumigatus strain LMB-35Aa scaffold103_size1834, whole genome shotgun sequence']"
   ]
  },
  {
   "cell_type": "code",
   "execution_count": 42,
   "id": "aee81c2b",
   "metadata": {},
   "outputs": [
    {
     "name": "stdout",
     "output_type": "stream",
     "text": [
      "3\n",
      "21\n",
      "21\n",
      "ATGCATATATCTTCTAAGTAG\n"
     ]
    }
   ],
   "source": [
    "stop_codons = [\"TAA\", \"TAG\", \"TGA\"]\n",
    "def repeats(dna):\n",
    "    dna = dna.upper()\n",
    "    for i in range(0, len(dna), 3):\n",
    "            codon = dna[i:i+3]\n",
    "            if codon == \"ATG\":\n",
    "                start_codon = dna.index(codon)\n",
    "                print(start_codon)\n",
    "                orf_start = start_codon+1\n",
    "                for j in range(start_codon,len(dna),3):\n",
    "                    codon2=dna[j:j+3]\n",
    "                    if codon2 == \"TAA\" or codon2 == \"TGA\" or codon2 == \"TAG\":\n",
    "                        position2 = dna.index(codon2) \n",
    "                        print(position2)\n",
    "                        ORF_stop=position2+1\n",
    "                        print(position2)\n",
    "                        print(dna[start_codon:(position2)+3])\n",
    "                        break\n",
    "                break\n",
    "\n",
    "                    \n",
    "        \n",
    "repeats(\"ACCATGCATATATCTTCTAAGTAGTTACTAGGTGACCTTATAATTAATTTTATAGATCCTAGAGTATTTTAAGGCATTG\")"
   ]
  },
  {
   "cell_type": "code",
   "execution_count": 44,
   "id": "2949c7bd",
   "metadata": {},
   "outputs": [
    {
     "name": "stdout",
     "output_type": "stream",
     "text": [
      "24 ATGCGAATGTCGATCCGTAACTAA\n",
      "18 ATGTCGATCCGTAACTAA\n"
     ]
    }
   ],
   "source": [
    "def startstop_codon(dna, frame):\n",
    "    dna = dna.upper()\n",
    "    for i in range(frame, len(dna), 3):\n",
    "        codon1 = dna[i:i+3]\n",
    "        if codon1 == 'ATG':\n",
    "            position1 = i\n",
    "            for j in range(position1, len(dna), 3):\n",
    "                codon2 = dna[j:j+3]\n",
    "                if codon2 in ['TAA', 'TAG', 'TGA']:\n",
    "                    position2 = j\n",
    "                    yield (position2-position1+3, dna[position1:position2+3])\n",
    "                    break\n",
    "\n",
    "\n",
    "for orflen, orf in startstop_codon('ATGCGAATGTCGATCCGTAACtaaCGATTAA', 0):\n",
    "    print(orflen, orf)\n"
   ]
  },
  {
   "cell_type": "code",
   "execution_count": null,
   "id": "c67522bf",
   "metadata": {},
   "outputs": [],
   "source": []
  },
  {
   "cell_type": "code",
   "execution_count": null,
   "id": "6cd7eda8",
   "metadata": {},
   "outputs": [],
   "source": []
  },
  {
   "cell_type": "code",
   "execution_count": null,
   "id": "a5463725",
   "metadata": {},
   "outputs": [],
   "source": []
  }
 ],
 "metadata": {
  "kernelspec": {
   "display_name": "Python 3",
   "language": "python",
   "name": "python3"
  },
  "language_info": {
   "codemirror_mode": {
    "name": "ipython",
    "version": 3
   },
   "file_extension": ".py",
   "mimetype": "text/x-python",
   "name": "python",
   "nbconvert_exporter": "python",
   "pygments_lexer": "ipython3",
   "version": "3.8.8"
  }
 },
 "nbformat": 4,
 "nbformat_minor": 5
}
